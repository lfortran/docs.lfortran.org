{
 "cells": [
  {
   "cell_type": "markdown",
   "metadata": {},
   "source": [
    "# Difference between an AST and ASR\n",
    "\n",
    "Let us take a simple Fortran code:\n",
    "```fortran\n",
    "integer function f(a, b) result(r)\n",
    "integer, intent(in) :: a, b\n",
    "integer :: c, d\n",
    "c = a + b - d\n",
    "r = c * a\n",
    "end function\n",
    "```\n",
    "and look at how the AST and ASR looks like.\n",
    "\n",
    "## AST"
   ]
  },
  {
   "cell_type": "code",
   "execution_count": 1,
   "metadata": {
    "execution": {
     "iopub.execute_input": "2022-10-15T19:15:28.121677Z",
     "iopub.status.busy": "2022-10-15T19:15:28.121597Z",
     "iopub.status.idle": "2022-10-15T19:15:28.122167Z",
     "shell.execute_reply": "2022-10-15T19:15:28.122101Z"
    }
   },
   "outputs": [
    {
     "name": "stdout",
     "output_type": "stream",
     "text": [
      "(\u001b[1m\u001b[35mTranslationUnit\u001b[39m\u001b[0m [(\u001b[1m\u001b[35mFunction\u001b[39m\u001b[0m f [(a) (b)] [(\u001b[1m\u001b[35mAttrType\u001b[39m\u001b[0m \u001b[1m\u001b[32mTypeInteger\u001b[39m\u001b[0m [] () \u001b[1m\u001b[32mNone\u001b[39m\u001b[0m)] \u001b[33mr\u001b[39m () () [] [] [] [(\u001b[1m\u001b[35mDeclaration\u001b[39m\u001b[0m (\u001b[1m\u001b[35mAttrType\u001b[39m\u001b[0m \u001b[1m\u001b[32mTypeInteger\u001b[39m\u001b[0m [] () \u001b[1m\u001b[32mNone\u001b[39m\u001b[0m) [(\u001b[1m\u001b[35mAttrIntent\u001b[39m\u001b[0m \u001b[1m\u001b[32mIn\u001b[39m\u001b[0m)] [(a [] [] () \u001b[1m\u001b[32mNone\u001b[39m\u001b[0m ()) (b [] [] () \u001b[1m\u001b[32mNone\u001b[39m\u001b[0m ())] ()) (\u001b[1m\u001b[35mDeclaration\u001b[39m\u001b[0m (\u001b[1m\u001b[35mAttrType\u001b[39m\u001b[0m \u001b[1m\u001b[32mTypeInteger\u001b[39m\u001b[0m [] () \u001b[1m\u001b[32mNone\u001b[39m\u001b[0m) [] [(c [] [] () \u001b[1m\u001b[32mNone\u001b[39m\u001b[0m ()) (d [] [] () \u001b[1m\u001b[32mNone\u001b[39m\u001b[0m ())] ())] [(\u001b[1m\u001b[35m=\u001b[39m\u001b[0m 0 \u001b[33mc\u001b[39m (- (+ \u001b[33ma\u001b[39m \u001b[33mb\u001b[39m) \u001b[33md\u001b[39m) ()) (\u001b[1m\u001b[35m=\u001b[39m\u001b[0m 0 \u001b[33mr\u001b[39m (* \u001b[33mc\u001b[39m \u001b[33ma\u001b[39m) ())] [])])"
     ]
    }
   ],
   "source": [
    "%%showast\n",
    "integer function f(a, b) result(r)\n",
    "integer, intent(in) :: a, b\n",
    "integer :: c, d\n",
    "c = a + b - d\n",
    "r = c * a\n",
    "end function"
   ]
  },
  {
   "cell_type": "markdown",
   "metadata": {},
   "source": [
    "The AST does not have any semantic information, but has nodes to represent declarations such as `integer, intent(in) :: a`. Variables such as `a` are represented by a `Name` node, and are not connected to their declarations yet."
   ]
  },
  {
   "cell_type": "markdown",
   "metadata": {},
   "source": [
    "## ASR"
   ]
  },
  {
   "cell_type": "code",
   "execution_count": 2,
   "metadata": {
    "execution": {
     "iopub.execute_input": "2022-10-15T19:15:28.173528Z",
     "iopub.status.busy": "2022-10-15T19:15:28.173447Z",
     "iopub.status.idle": "2022-10-15T19:15:28.174623Z",
     "shell.execute_reply": "2022-10-15T19:15:28.174562Z"
    }
   },
   "outputs": [
    {
     "name": "stdout",
     "output_type": "stream",
     "text": [
      "(\u001b[1m\u001b[35mTranslationUnit\u001b[39m\u001b[0m (\u001b[33mSymbolTable\u001b[39m 1 {f: (\u001b[1m\u001b[35mFunction\u001b[39m\u001b[0m (\u001b[33mSymbolTable\u001b[39m 2 {a: (\u001b[1m\u001b[35mVariable\u001b[39m\u001b[0m 2 a \u001b[1m\u001b[32mIn\u001b[39m\u001b[0m () () \u001b[1m\u001b[32mDefault\u001b[39m\u001b[0m (\u001b[1m\u001b[35mInteger\u001b[39m\u001b[0m 4 []) \u001b[1m\u001b[32mSource\u001b[39m\u001b[0m \u001b[1m\u001b[32mPublic\u001b[39m\u001b[0m \u001b[1m\u001b[32mRequired\u001b[39m\u001b[0m .false.), b: (\u001b[1m\u001b[35mVariable\u001b[39m\u001b[0m 2 b \u001b[1m\u001b[32mIn\u001b[39m\u001b[0m () () \u001b[1m\u001b[32mDefault\u001b[39m\u001b[0m (\u001b[1m\u001b[35mInteger\u001b[39m\u001b[0m 4 []) \u001b[1m\u001b[32mSource\u001b[39m\u001b[0m \u001b[1m\u001b[32mPublic\u001b[39m\u001b[0m \u001b[1m\u001b[32mRequired\u001b[39m\u001b[0m .false.), c: (\u001b[1m\u001b[35mVariable\u001b[39m\u001b[0m 2 c \u001b[1m\u001b[32mLocal\u001b[39m\u001b[0m () () \u001b[1m\u001b[32mDefault\u001b[39m\u001b[0m (\u001b[1m\u001b[35mInteger\u001b[39m\u001b[0m 4 []) \u001b[1m\u001b[32mSource\u001b[39m\u001b[0m \u001b[1m\u001b[32mPublic\u001b[39m\u001b[0m \u001b[1m\u001b[32mRequired\u001b[39m\u001b[0m .false.), d: (\u001b[1m\u001b[35mVariable\u001b[39m\u001b[0m 2 d \u001b[1m\u001b[32mLocal\u001b[39m\u001b[0m () () \u001b[1m\u001b[32mDefault\u001b[39m\u001b[0m (\u001b[1m\u001b[35mInteger\u001b[39m\u001b[0m 4 []) \u001b[1m\u001b[32mSource\u001b[39m\u001b[0m \u001b[1m\u001b[32mPublic\u001b[39m\u001b[0m \u001b[1m\u001b[32mRequired\u001b[39m\u001b[0m .false.), r: (\u001b[1m\u001b[35mVariable\u001b[39m\u001b[0m 2 r \u001b[1m\u001b[32mReturnVar\u001b[39m\u001b[0m () () \u001b[1m\u001b[32mDefault\u001b[39m\u001b[0m (\u001b[1m\u001b[35mInteger\u001b[39m\u001b[0m 4 []) \u001b[1m\u001b[32mSource\u001b[39m\u001b[0m \u001b[1m\u001b[32mPublic\u001b[39m\u001b[0m \u001b[1m\u001b[32mRequired\u001b[39m\u001b[0m .false.)}) f [(\u001b[1m\u001b[35mVar\u001b[39m\u001b[0m 2 \u001b[33ma\u001b[39m) (\u001b[1m\u001b[35mVar\u001b[39m\u001b[0m 2 \u001b[33mb\u001b[39m)] [(\u001b[1m\u001b[35m=\u001b[39m\u001b[0m (\u001b[1m\u001b[35mVar\u001b[39m\u001b[0m 2 \u001b[33mc\u001b[39m) (\u001b[1m\u001b[35mIntegerBinOp\u001b[39m\u001b[0m (\u001b[1m\u001b[35mIntegerBinOp\u001b[39m\u001b[0m (\u001b[1m\u001b[35mVar\u001b[39m\u001b[0m 2 \u001b[33ma\u001b[39m) \u001b[1m\u001b[32mAdd\u001b[39m\u001b[0m (\u001b[1m\u001b[35mVar\u001b[39m\u001b[0m 2 \u001b[33mb\u001b[39m) (\u001b[1m\u001b[35mInteger\u001b[39m\u001b[0m 4 []) ()) \u001b[1m\u001b[32mSub\u001b[39m\u001b[0m (\u001b[1m\u001b[35mVar\u001b[39m\u001b[0m 2 \u001b[33md\u001b[39m) (\u001b[1m\u001b[35mInteger\u001b[39m\u001b[0m 4 []) ()) ()) (\u001b[1m\u001b[35m=\u001b[39m\u001b[0m (\u001b[1m\u001b[35mVar\u001b[39m\u001b[0m 2 \u001b[33mr\u001b[39m) (\u001b[1m\u001b[35mIntegerBinOp\u001b[39m\u001b[0m (\u001b[1m\u001b[35mVar\u001b[39m\u001b[0m 2 \u001b[33mc\u001b[39m) \u001b[1m\u001b[32mMul\u001b[39m\u001b[0m (\u001b[1m\u001b[35mVar\u001b[39m\u001b[0m 2 \u001b[33ma\u001b[39m) (\u001b[1m\u001b[35mInteger\u001b[39m\u001b[0m 4 []) ()) ())] (\u001b[1m\u001b[35mVar\u001b[39m\u001b[0m 2 \u001b[33mr\u001b[39m) \u001b[1m\u001b[32mSource\u001b[39m\u001b[0m \u001b[1m\u001b[32mPublic\u001b[39m\u001b[0m \u001b[1m\u001b[32mImplementation\u001b[39m\u001b[0m () .false. .false. .false. .false. .false. [] [] .false.)}) [])"
     ]
    }
   ],
   "source": [
    "%%showasr\n",
    "integer function f(a, b) result(r)\n",
    "integer, intent(in) :: a, b\n",
    "integer :: c, d\n",
    "c = a + b - d\n",
    "r = c * a\n",
    "end function"
   ]
  },
  {
   "cell_type": "markdown",
   "metadata": {},
   "source": [
    "The ASR has all the semantic information (types, etc.), nodes like `Function` have a symbol table and do not have any declaration nodes. Variables are simply pointers to the symbol table.\n",
    "\n",
    "## Discussion\n",
    "\n",
    "The above was a simple example. Things get more apparent for more complicated examples, such as:\n",
    "```fortran\n",
    "integer function f2b(a) result(r)\n",
    "use gfort_interop, only: c_desc1_int32\n",
    "integer, intent(in) :: a(:)\n",
    "interface\n",
    "    integer function f2b_c_wrapper(a) bind(c, name=\"__mod1_MOD_f2b\")\n",
    "    use gfort_interop, only: c_desc1_t\n",
    "    type(c_desc1_t), intent(in) :: a\n",
    "    end function\n",
    "end interface\n",
    "r = f2b_c_wrapper(c_desc1_int32(a))\n",
    "end function\n",
    "```\n",
    "AST must represent all the `use` statements and the `interface` block, and keep things semantically consistent.\n",
    "\n",
    "ASR, on the other hand, keeps track of the `c_desc1_int32`, `c_desc1_t` and `f2b_c_wrapper` in the symbol table and it knows they are defined in the `gfort_interop` module, and so ASR does not have any of these declaration nodes.\n",
    "\n",
    "When converting from ASR to AST, LFortran will create all the appropriate AST declaration nodes automatically and correctly."
   ]
  }
 ],
 "metadata": {
  "kernelspec": {
   "display_name": "Fortran",
   "language": "fortran",
   "name": "fortran"
  },
  "language_info": {
   "file_extension": ".f90",
   "mimetype": "text/x-fortran",
   "name": "fortran",
   "version": "2018"
  }
 },
 "nbformat": 4,
 "nbformat_minor": 2
}
