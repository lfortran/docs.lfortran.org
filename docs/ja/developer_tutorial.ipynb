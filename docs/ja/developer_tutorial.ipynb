{
 "cells": [
  {
   "cell_type": "markdown",
   "metadata": {},
   "source": [
    "# Developer Tutorial\n",
    "\n",
    "This is a tutorial for anybody who wants to either develop LFortran or build\n",
    "tools on top.\n",
    "\n",
    "## Introduction\n",
    "\n",
    "LFortran is structured around two independent modules, AST and ASR, both of\n",
    "which are standalone (completely independent of the rest of LFortran) and users\n",
    "are encouraged to use them independently for other applications and build tools\n",
    "on top:\n",
    "\n",
    "* Abstract Syntax Tree (AST): Represents any Fortran\n",
    "  source code, strictly based on syntax, no semantic is included. The AST\n",
    "  module can convert itself to Fortran source code.\n",
    "\n",
    "* Abstract Semantic Representation (ASR): Represents a\n",
    "  valid Fortran source code, all semantic is included. Invalid Fortran code is\n",
    "  not allowed (an error will be given). The ASR module can convert itself to an\n",
    "  AST.\n",
    "\n",
    "## Abstract Syntax Tree (AST)\n",
    "\n",
    "Fortran source code can be parsed into an AST using the `src_to_ast()`\n",
    "function:"
   ]
  },
  {
   "cell_type": "code",
   "execution_count": 1,
   "metadata": {
    "execution": {
     "iopub.execute_input": "2022-10-21T20:41:04.322196Z",
     "iopub.status.busy": "2022-10-21T20:41:04.322143Z",
     "iopub.status.idle": "2022-10-21T20:41:04.323523Z",
     "shell.execute_reply": "2022-10-21T20:41:04.323462Z"
    }
   },
   "outputs": [],
   "source": [
    "integer function f(a, b) result(r)\n",
    "integer, intent(in) :: a, b\n",
    "r = a + b\n",
    "end function"
   ]
  },
  {
   "cell_type": "markdown",
   "metadata": {},
   "source": [
    "We can pretty print it using the `%%showast` magic:"
   ]
  },
  {
   "cell_type": "code",
   "execution_count": 2,
   "metadata": {
    "execution": {
     "iopub.execute_input": "2022-10-21T20:41:04.325719Z",
     "iopub.status.busy": "2022-10-21T20:41:04.325666Z",
     "iopub.status.idle": "2022-10-21T20:41:04.326028Z",
     "shell.execute_reply": "2022-10-21T20:41:04.325948Z"
    },
    "scrolled": true
   },
   "outputs": [
    {
     "name": "stdout",
     "output_type": "stream",
     "text": [
      "(\u001b[1m\u001b[35mTranslationUnit\u001b[39m\u001b[0m [(\u001b[1m\u001b[35mFunction\u001b[39m\u001b[0m f [(a) (b)] [(\u001b[1m\u001b[35mAttrType\u001b[39m\u001b[0m \u001b[1m\u001b[32mTypeInteger\u001b[39m\u001b[0m [] () \u001b[1m\u001b[32mNone\u001b[39m\u001b[0m)] \u001b[33mr\u001b[39m () () [] [] [] [(\u001b[1m\u001b[35mDeclaration\u001b[39m\u001b[0m (\u001b[1m\u001b[35mAttrType\u001b[39m\u001b[0m \u001b[1m\u001b[32mTypeInteger\u001b[39m\u001b[0m [] () \u001b[1m\u001b[32mNone\u001b[39m\u001b[0m) [(\u001b[1m\u001b[35mAttrIntent\u001b[39m\u001b[0m \u001b[1m\u001b[32mIn\u001b[39m\u001b[0m)] [(a [] [] () \u001b[1m\u001b[32mNone\u001b[39m\u001b[0m ()) (b [] [] () \u001b[1m\u001b[32mNone\u001b[39m\u001b[0m ())] ())] [(\u001b[1m\u001b[35m=\u001b[39m\u001b[0m 0 \u001b[33mr\u001b[39m (+ \u001b[33ma\u001b[39m \u001b[33mb\u001b[39m) ())] [])])"
     ]
    }
   ],
   "source": [
    "%%showast\n",
    "integer function f(a, b) result(r)\n",
    "integer, intent(in) :: a, b\n",
    "r = a + b\n",
    "end function"
   ]
  },
  {
   "cell_type": "markdown",
   "metadata": {},
   "source": [
    "We can convert AST to Fortran source code using `%%showfmt`:"
   ]
  },
  {
   "cell_type": "code",
   "execution_count": 3,
   "metadata": {
    "execution": {
     "iopub.execute_input": "2022-10-21T20:41:04.328972Z",
     "iopub.status.busy": "2022-10-21T20:41:04.328926Z",
     "iopub.status.idle": "2022-10-21T20:41:04.329260Z",
     "shell.execute_reply": "2022-10-21T20:41:04.329182Z"
    }
   },
   "outputs": [
    {
     "name": "stdout",
     "output_type": "stream",
     "text": [
      "\u001b[92minteger\u001b[39m \u001b[96mfunction\u001b[39m f(a, b) \u001b[96mresult\u001b[39m(r)\n",
      "\u001b[92minteger\u001b[39m, \u001b[92mintent\u001b[39m(\u001b[92min\u001b[39m) :: a, b\n",
      "r = a + b\n",
      "\u001b[96mend function\u001b[39m f\n"
     ]
    }
   ],
   "source": [
    "%%showfmt\n",
    "integer function f(a, b) result(r)\n",
    "integer, intent(in) :: a, b\n",
    "r = a + b\n",
    "end function"
   ]
  },
  {
   "cell_type": "markdown",
   "metadata": {},
   "source": [
    "All AST nodes and their arguments are described in\n",
    "[AST.asdl](https://github.com/lfortran/lfortran/blob/master/grammar/AST.asdl).\n",
    "\n",
    "## Abstract Semantic Representation (ASR)"
   ]
  },
  {
   "cell_type": "markdown",
   "metadata": {},
   "source": [
    "We can pretty print using the `%%showasr` magic:"
   ]
  },
  {
   "cell_type": "code",
   "execution_count": 4,
   "metadata": {
    "execution": {
     "iopub.execute_input": "2022-10-21T20:41:04.332078Z",
     "iopub.status.busy": "2022-10-21T20:41:04.332031Z",
     "iopub.status.idle": "2022-10-21T20:41:04.332876Z",
     "shell.execute_reply": "2022-10-21T20:41:04.332792Z"
    }
   },
   "outputs": [
    {
     "name": "stdout",
     "output_type": "stream",
     "text": [
      "(\u001b[1m\u001b[35mTranslationUnit\u001b[39m\u001b[0m (\u001b[33mSymbolTable\u001b[39m 1 {f: (\u001b[1m\u001b[35mFunction\u001b[39m\u001b[0m (\u001b[33mSymbolTable\u001b[39m 3 {a: (\u001b[1m\u001b[35mVariable\u001b[39m\u001b[0m 3 a \u001b[1m\u001b[32mIn\u001b[39m\u001b[0m () () \u001b[1m\u001b[32mDefault\u001b[39m\u001b[0m (\u001b[1m\u001b[35mInteger\u001b[39m\u001b[0m 4 []) \u001b[1m\u001b[32mSource\u001b[39m\u001b[0m \u001b[1m\u001b[32mPublic\u001b[39m\u001b[0m \u001b[1m\u001b[32mRequired\u001b[39m\u001b[0m .false.), b: (\u001b[1m\u001b[35mVariable\u001b[39m\u001b[0m 3 b \u001b[1m\u001b[32mIn\u001b[39m\u001b[0m () () \u001b[1m\u001b[32mDefault\u001b[39m\u001b[0m (\u001b[1m\u001b[35mInteger\u001b[39m\u001b[0m 4 []) \u001b[1m\u001b[32mSource\u001b[39m\u001b[0m \u001b[1m\u001b[32mPublic\u001b[39m\u001b[0m \u001b[1m\u001b[32mRequired\u001b[39m\u001b[0m .false.), r: (\u001b[1m\u001b[35mVariable\u001b[39m\u001b[0m 3 r \u001b[1m\u001b[32mReturnVar\u001b[39m\u001b[0m () () \u001b[1m\u001b[32mDefault\u001b[39m\u001b[0m (\u001b[1m\u001b[35mInteger\u001b[39m\u001b[0m 4 []) \u001b[1m\u001b[32mSource\u001b[39m\u001b[0m \u001b[1m\u001b[32mPublic\u001b[39m\u001b[0m \u001b[1m\u001b[32mRequired\u001b[39m\u001b[0m .false.)}) f [(\u001b[1m\u001b[35mVar\u001b[39m\u001b[0m 3 \u001b[33ma\u001b[39m) (\u001b[1m\u001b[35mVar\u001b[39m\u001b[0m 3 \u001b[33mb\u001b[39m)] [(\u001b[1m\u001b[35m=\u001b[39m\u001b[0m (\u001b[1m\u001b[35mVar\u001b[39m\u001b[0m 3 \u001b[33mr\u001b[39m) (\u001b[1m\u001b[35mIntegerBinOp\u001b[39m\u001b[0m (\u001b[1m\u001b[35mVar\u001b[39m\u001b[0m 3 \u001b[33ma\u001b[39m) \u001b[1m\u001b[32mAdd\u001b[39m\u001b[0m (\u001b[1m\u001b[35mVar\u001b[39m\u001b[0m 3 \u001b[33mb\u001b[39m) (\u001b[1m\u001b[35mInteger\u001b[39m\u001b[0m 4 []) ()) ())] (\u001b[1m\u001b[35mVar\u001b[39m\u001b[0m 3 \u001b[33mr\u001b[39m) \u001b[1m\u001b[32mSource\u001b[39m\u001b[0m \u001b[1m\u001b[32mPublic\u001b[39m\u001b[0m \u001b[1m\u001b[32mImplementation\u001b[39m\u001b[0m () .false. .false. .false. .false. .false. [] [] .false.)}) [])"
     ]
    }
   ],
   "source": [
    "%%showasr\n",
    "integer function f(a, b) result(r)\n",
    "integer, intent(in) :: a, b\n",
    "r = a + b\n",
    "end function"
   ]
  },
  {
   "cell_type": "markdown",
   "metadata": {},
   "source": [
    "All ASR nodes and their arguments are described in\n",
    "[ASR.asdl](https://github.com/lfortran/lfortran/blob/master/src/libasr/ASR.asdl)."
   ]
  }
 ],
 "metadata": {
  "kernelspec": {
   "display_name": "Fortran",
   "language": "fortran",
   "name": "fortran"
  },
  "language_info": {
   "file_extension": ".f90",
   "mimetype": "text/x-fortran",
   "name": "fortran",
   "version": "2018"
  }
 },
 "nbformat": 4,
 "nbformat_minor": 2
}
