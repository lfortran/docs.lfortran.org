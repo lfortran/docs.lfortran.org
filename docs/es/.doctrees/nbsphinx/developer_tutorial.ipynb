{
 "cells": [
  {
   "cell_type": "markdown",
   "metadata": {},
   "source": [
    "# Developer Tutorial\n",
    "\n",
    "This is a tutorial for anybody who wants to either develop LFortran or build\n",
    "tools on top.\n",
    "\n",
    "## Introduction\n",
    "\n",
    "LFortran is structured around two independent modules, AST and ASR, both of\n",
    "which are standalone (completely independent of the rest of LFortran) and users\n",
    "are encouraged to use them independently for other applications and build tools\n",
    "on top:\n",
    "\n",
    "* Abstract Syntax Tree (AST): Represents any Fortran\n",
    "  source code, strictly based on syntax, no semantic is included. The AST\n",
    "  module can convert itself to Fortran source code.\n",
    "\n",
    "* Abstract Semantic Representation (ASR): Represents a\n",
    "  valid Fortran source code, all semantic is included. Invalid Fortran code is\n",
    "  not allowed (an error will be given). The ASR module can convert itself to an\n",
    "  AST.\n",
    "\n",
    "## Abstract Syntax Tree (AST)\n",
    "\n",
    "Fortran source code can be parsed into an AST using the `src_to_ast()`\n",
    "function:"
   ]
  },
  {
   "cell_type": "code",
   "execution_count": 1,
   "metadata": {
    "execution": {
     "iopub.execute_input": "2024-12-11T21:25:19.822854Z",
     "iopub.status.busy": "2024-12-11T21:25:19.822784Z",
     "iopub.status.idle": "2024-12-11T21:25:19.826186Z",
     "shell.execute_reply": "2024-12-11T21:25:19.826137Z"
    }
   },
   "outputs": [],
   "source": [
    "integer function f(a, b) result(r)\n",
    "integer, intent(in) :: a, b\n",
    "r = a + b\n",
    "end function"
   ]
  },
  {
   "cell_type": "markdown",
   "metadata": {},
   "source": [
    "We can pretty print it using the `%%showast` magic:"
   ]
  },
  {
   "cell_type": "code",
   "execution_count": 2,
   "metadata": {
    "execution": {
     "iopub.execute_input": "2024-12-11T21:25:19.827220Z",
     "iopub.status.busy": "2024-12-11T21:25:19.827171Z",
     "iopub.status.idle": "2024-12-11T21:25:19.827611Z",
     "shell.execute_reply": "2024-12-11T21:25:19.827555Z"
    },
    "scrolled": true
   },
   "outputs": [
    {
     "name": "stdout",
     "output_type": "stream",
     "text": [
      "(\u001b[1m\u001b[35mTranslationUnit\u001b[39m\u001b[0m\n",
      "    [(\u001b[1m\u001b[35mFunction\u001b[39m\u001b[0m\n",
      "        f\n",
      "        [(a)\n",
      "        (b)]\n",
      "        [(\u001b[1m\u001b[35mAttrType\u001b[39m\u001b[0m\n",
      "            \u001b[1m\u001b[32mTypeInteger\u001b[39m\u001b[0m\n",
      "            []\n",
      "            ()\n",
      "            ()\n",
      "            \u001b[1m\u001b[32mNone\u001b[39m\u001b[0m\n",
      "        )]\n",
      "        \u001b[33mr\u001b[39m\n",
      "        ()\n",
      "        ()\n",
      "        []\n",
      "        []\n",
      "        []\n",
      "        [(\u001b[1m\u001b[35mDeclaration\u001b[39m\u001b[0m\n",
      "            (\u001b[1m\u001b[35mAttrType\u001b[39m\u001b[0m\n",
      "                \u001b[1m\u001b[32mTypeInteger\u001b[39m\u001b[0m\n",
      "                []\n",
      "                ()\n",
      "                ()\n",
      "                \u001b[1m\u001b[32mNone\u001b[39m\u001b[0m\n",
      "            )\n",
      "            [(\u001b[1m\u001b[35mAttrIntent\u001b[39m\u001b[0m\n",
      "                \u001b[1m\u001b[32mIn\u001b[39m\u001b[0m\n",
      "            )]\n",
      "            [(a\n",
      "            []\n",
      "            []\n",
      "            ()\n",
      "            ()\n",
      "            \u001b[1m\u001b[32mNone\u001b[39m\u001b[0m\n",
      "            ())\n",
      "            (b\n",
      "            []\n",
      "            []\n",
      "            ()\n",
      "            ()\n",
      "            \u001b[1m\u001b[32mNone\u001b[39m\u001b[0m\n",
      "            ())]\n",
      "            ()\n",
      "        )]\n",
      "        [(\u001b[1m\u001b[35mAssignment\u001b[39m\u001b[0m\n",
      "            0\n",
      "            \u001b[33mr\u001b[39m\n",
      "            (+ \u001b[33ma\u001b[39m \u001b[33mb\u001b[39m)\n",
      "            ()\n",
      "        )]\n",
      "        []\n",
      "        []\n",
      "    )]\n",
      ")"
     ]
    }
   ],
   "source": [
    "%%showast\n",
    "integer function f(a, b) result(r)\n",
    "integer, intent(in) :: a, b\n",
    "r = a + b\n",
    "end function"
   ]
  },
  {
   "cell_type": "markdown",
   "metadata": {},
   "source": [
    "We can convert AST to Fortran source code using `%%showfmt`:"
   ]
  },
  {
   "cell_type": "code",
   "execution_count": 3,
   "metadata": {
    "execution": {
     "iopub.execute_input": "2024-12-11T21:25:19.829111Z",
     "iopub.status.busy": "2024-12-11T21:25:19.829067Z",
     "iopub.status.idle": "2024-12-11T21:25:19.829424Z",
     "shell.execute_reply": "2024-12-11T21:25:19.829372Z"
    }
   },
   "outputs": [
    {
     "name": "stdout",
     "output_type": "stream",
     "text": [
      "\u001b[92minteger\u001b[39m \u001b[96mfunction\u001b[39m f(a, b) \u001b[96mresult\u001b[39m(r)\n",
      "\u001b[92minteger\u001b[39m, \u001b[92mintent\u001b[39m(\u001b[92min\u001b[39m) :: a, b\n",
      "r = a + b\n",
      "\u001b[96mend function\u001b[39m f\n"
     ]
    }
   ],
   "source": [
    "%%showfmt\n",
    "integer function f(a, b) result(r)\n",
    "integer, intent(in) :: a, b\n",
    "r = a + b\n",
    "end function"
   ]
  },
  {
   "cell_type": "markdown",
   "metadata": {},
   "source": [
    "All AST nodes and their arguments are described in\n",
    "[AST.asdl](https://github.com/lfortran/lfortran/blob/master/grammar/AST.asdl).\n",
    "\n",
    "## Abstract Semantic Representation (ASR)"
   ]
  },
  {
   "cell_type": "markdown",
   "metadata": {},
   "source": [
    "We can pretty print using the `%%showasr` magic:"
   ]
  },
  {
   "cell_type": "code",
   "execution_count": 4,
   "metadata": {
    "execution": {
     "iopub.execute_input": "2024-12-11T21:25:19.830864Z",
     "iopub.status.busy": "2024-12-11T21:25:19.830821Z",
     "iopub.status.idle": "2024-12-11T21:25:19.832481Z",
     "shell.execute_reply": "2024-12-11T21:25:19.832429Z"
    }
   },
   "outputs": [
    {
     "name": "stdout",
     "output_type": "stream",
     "text": [
      "(\u001b[1m\u001b[35mTranslationUnit\u001b[39m\u001b[0m\n",
      "    (\u001b[33mSymbolTable\u001b[39m\n",
      "        1\n",
      "        {\n",
      "            f:\n",
      "                (\u001b[1m\u001b[35mFunction\u001b[39m\u001b[0m\n",
      "                    (\u001b[33mSymbolTable\u001b[39m\n",
      "                        3\n",
      "                        {\n",
      "                            a:\n",
      "                                (\u001b[1m\u001b[35mVariable\u001b[39m\u001b[0m\n",
      "                                    3\n",
      "                                    a\n",
      "                                    []\n",
      "                                    \u001b[1m\u001b[32mIn\u001b[39m\u001b[0m\n",
      "                                    ()\n",
      "                                    ()\n",
      "                                    \u001b[1m\u001b[32mDefault\u001b[39m\u001b[0m\n",
      "                                    (\u001b[1m\u001b[35mInteger\u001b[39m\u001b[0m 4)\n",
      "                                    ()\n",
      "                                    \u001b[1m\u001b[32mSource\u001b[39m\u001b[0m\n",
      "                                    \u001b[1m\u001b[32mPublic\u001b[39m\u001b[0m\n",
      "                                    \u001b[1m\u001b[32mRequired\u001b[39m\u001b[0m\n",
      "                                    .false.\n",
      "                                ),\n",
      "                            b:\n",
      "                                (\u001b[1m\u001b[35mVariable\u001b[39m\u001b[0m\n",
      "                                    3\n",
      "                                    b\n",
      "                                    []\n",
      "                                    \u001b[1m\u001b[32mIn\u001b[39m\u001b[0m\n",
      "                                    ()\n",
      "                                    ()\n",
      "                                    \u001b[1m\u001b[32mDefault\u001b[39m\u001b[0m\n",
      "                                    (\u001b[1m\u001b[35mInteger\u001b[39m\u001b[0m 4)\n",
      "                                    ()\n",
      "                                    \u001b[1m\u001b[32mSource\u001b[39m\u001b[0m\n",
      "                                    \u001b[1m\u001b[32mPublic\u001b[39m\u001b[0m\n",
      "                                    \u001b[1m\u001b[32mRequired\u001b[39m\u001b[0m\n",
      "                                    .false.\n",
      "                                ),\n",
      "                            r:\n",
      "                                (\u001b[1m\u001b[35mVariable\u001b[39m\u001b[0m\n",
      "                                    3\n",
      "                                    r\n",
      "                                    []\n",
      "                                    \u001b[1m\u001b[32mReturnVar\u001b[39m\u001b[0m\n",
      "                                    ()\n",
      "                                    ()\n",
      "                                    \u001b[1m\u001b[32mDefault\u001b[39m\u001b[0m\n",
      "                                    (\u001b[1m\u001b[35mInteger\u001b[39m\u001b[0m 4)\n",
      "                                    ()\n",
      "                                    \u001b[1m\u001b[32mSource\u001b[39m\u001b[0m\n",
      "                                    \u001b[1m\u001b[32mPublic\u001b[39m\u001b[0m\n",
      "                                    \u001b[1m\u001b[32mRequired\u001b[39m\u001b[0m\n",
      "                                    .false.\n",
      "                                )\n",
      "                        })\n",
      "                    f\n",
      "                    (\u001b[1m\u001b[35mFunctionType\u001b[39m\u001b[0m\n",
      "                        [(\u001b[1m\u001b[35mInteger\u001b[39m\u001b[0m 4)\n",
      "                        (\u001b[1m\u001b[35mInteger\u001b[39m\u001b[0m 4)]\n",
      "                        (\u001b[1m\u001b[35mInteger\u001b[39m\u001b[0m 4)\n",
      "                        \u001b[1m\u001b[32mSource\u001b[39m\u001b[0m\n",
      "                        \u001b[1m\u001b[32mImplementation\u001b[39m\u001b[0m\n",
      "                        ()\n",
      "                        .false.\n",
      "                        .false.\n",
      "                        .false.\n",
      "                        .false.\n",
      "                        .false.\n",
      "                        []\n",
      "                        .false.\n",
      "                    )\n",
      "                    []\n",
      "                    [(\u001b[1m\u001b[35mVar\u001b[39m\u001b[0m 3 \u001b[33ma\u001b[39m)\n",
      "                    (\u001b[1m\u001b[35mVar\u001b[39m\u001b[0m 3 \u001b[33mb\u001b[39m)]\n",
      "                    [(\u001b[1m\u001b[35mAssignment\u001b[39m\u001b[0m\n",
      "                        (\u001b[1m\u001b[35mVar\u001b[39m\u001b[0m 3 \u001b[33mr\u001b[39m)\n",
      "                        (\u001b[1m\u001b[35mIntegerBinOp\u001b[39m\u001b[0m\n",
      "                            (\u001b[1m\u001b[35mVar\u001b[39m\u001b[0m 3 \u001b[33ma\u001b[39m)\n",
      "                            \u001b[1m\u001b[32mAdd\u001b[39m\u001b[0m\n",
      "                            (\u001b[1m\u001b[35mVar\u001b[39m\u001b[0m 3 \u001b[33mb\u001b[39m)\n",
      "                            (\u001b[1m\u001b[35mInteger\u001b[39m\u001b[0m 4)\n",
      "                            ()\n",
      "                        )\n",
      "                        ()\n",
      "                    )]\n",
      "                    (\u001b[1m\u001b[35mVar\u001b[39m\u001b[0m 3 \u001b[33mr\u001b[39m)\n",
      "                    \u001b[1m\u001b[32mPublic\u001b[39m\u001b[0m\n",
      "                    .false.\n",
      "                    .false.\n",
      "                    ()\n",
      "                )\n",
      "        })\n",
      "    []\n",
      ")"
     ]
    }
   ],
   "source": [
    "%%showasr\n",
    "integer function f(a, b) result(r)\n",
    "integer, intent(in) :: a, b\n",
    "r = a + b\n",
    "end function"
   ]
  },
  {
   "cell_type": "markdown",
   "metadata": {},
   "source": [
    "All ASR nodes and their arguments are described in\n",
    "[ASR.asdl](https://github.com/lfortran/lfortran/blob/master/src/libasr/ASR.asdl)."
   ]
  }
 ],
 "metadata": {
  "kernelspec": {
   "display_name": "Fortran",
   "language": "fortran",
   "name": "fortran"
  },
  "language_info": {
   "file_extension": ".f90",
   "mimetype": "text/x-fortran",
   "name": "fortran",
   "version": "2018"
  }
 },
 "nbformat": 4,
 "nbformat_minor": 2
}
